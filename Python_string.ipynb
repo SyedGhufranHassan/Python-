{
 "cells": [
  {
   "cell_type": "code",
   "execution_count": 1,
   "id": "de0cc792",
   "metadata": {},
   "outputs": [
    {
     "name": "stdout",
     "output_type": "stream",
     "text": [
      "True\n",
      "True\n",
      "True\n",
      "False\n",
      "hello\n"
     ]
    }
   ],
   "source": [
    "s1 = \"hello\"\n",
    "s2 = \"hello\"\n",
    "print(s1 == s2)   # True\n",
    "print(s1 is s2)   # True (usually interned)\n",
    "\n",
    "s3 = ''.join(['hel', 'lo'])  # constructed at runtime\n",
    "print(s1 == s3)   # True\n",
    "print(s1 is s3)   # False (different memory object)\n",
    "print(s3)"
   ]
  },
  {
   "cell_type": "code",
   "execution_count": 1,
   "id": "845d5659",
   "metadata": {},
   "outputs": [],
   "source": [
    "text=\"hello\""
   ]
  },
  {
   "cell_type": "code",
   "execution_count": 2,
   "id": "23b18eb3",
   "metadata": {},
   "outputs": [
    {
     "name": "stdout",
     "output_type": "stream",
     "text": [
      "l\n"
     ]
    }
   ],
   "source": [
    "print(text[2])"
   ]
  },
  {
   "cell_type": "code",
   "execution_count": 3,
   "id": "058b070c",
   "metadata": {},
   "outputs": [
    {
     "name": "stdout",
     "output_type": "stream",
     "text": [
      "h\n",
      "e\n",
      "l\n",
      "l\n",
      "o\n"
     ]
    }
   ],
   "source": [
    "for i in text:\n",
    "    print(i)"
   ]
  },
  {
   "cell_type": "code",
   "execution_count": 4,
   "id": "ee4b8ff7",
   "metadata": {},
   "outputs": [
    {
     "name": "stdout",
     "output_type": "stream",
     "text": [
      "False\n"
     ]
    }
   ],
   "source": [
    "print(\"i\" in text)"
   ]
  },
  {
   "cell_type": "code",
   "execution_count": 5,
   "id": "e0c6e716",
   "metadata": {},
   "outputs": [
    {
     "name": "stdout",
     "output_type": "stream",
     "text": [
      "True\n"
     ]
    }
   ],
   "source": [
    "print(\"o\" in text)"
   ]
  },
  {
   "cell_type": "code",
   "execution_count": 9,
   "id": "cb07f3d1",
   "metadata": {},
   "outputs": [
    {
     "name": "stdout",
     "output_type": "stream",
     "text": [
      "no\n"
     ]
    }
   ],
   "source": [
    "if \"i\" in text:\n",
    "    print(\"Yes, Present\")\n",
    "else:\n",
    "    print(\"no\")"
   ]
  },
  {
   "cell_type": "code",
   "execution_count": 10,
   "id": "ce657a20",
   "metadata": {},
   "outputs": [
    {
     "name": "stdout",
     "output_type": "stream",
     "text": [
      "Yes, Present\n"
     ]
    }
   ],
   "source": [
    "if \"l\" in text:\n",
    "    print(\"Yes, Present\")\n",
    "else:\n",
    "    print(\"no\")"
   ]
  },
  {
   "cell_type": "code",
   "execution_count": 11,
   "id": "de505d16",
   "metadata": {},
   "outputs": [
    {
     "name": "stdout",
     "output_type": "stream",
     "text": [
      "False\n"
     ]
    }
   ],
   "source": [
    "print(\"e\" not in text)"
   ]
  },
  {
   "cell_type": "code",
   "execution_count": 12,
   "id": "68cc4c02",
   "metadata": {},
   "outputs": [
    {
     "name": "stdout",
     "output_type": "stream",
     "text": [
      "False\n"
     ]
    }
   ],
   "source": [
    "print(\"l\" not in text)"
   ]
  },
  {
   "cell_type": "code",
   "execution_count": 13,
   "id": "b621113e",
   "metadata": {},
   "outputs": [
    {
     "name": "stdout",
     "output_type": "stream",
     "text": [
      "True\n"
     ]
    }
   ],
   "source": [
    "print(\"g\" not in text)"
   ]
  },
  {
   "cell_type": "code",
   "execution_count": 14,
   "id": "cb1580a6",
   "metadata": {},
   "outputs": [],
   "source": [
    "text=\"String Practice\""
   ]
  },
  {
   "cell_type": "code",
   "execution_count": 17,
   "id": "07b04445",
   "metadata": {},
   "outputs": [
    {
     "data": {
      "text/plain": [
       "'ng P'"
      ]
     },
     "execution_count": 17,
     "metadata": {},
     "output_type": "execute_result"
    }
   ],
   "source": [
    "mid=text[4:8]\n",
    "mid"
   ]
  },
  {
   "cell_type": "code",
   "execution_count": 19,
   "id": "e1798bd8",
   "metadata": {},
   "outputs": [
    {
     "data": {
      "text/plain": [
       "'Strin'"
      ]
     },
     "execution_count": 19,
     "metadata": {},
     "output_type": "execute_result"
    }
   ],
   "source": [
    "start=text[:5]\n",
    "start"
   ]
  },
  {
   "cell_type": "code",
   "execution_count": 21,
   "id": "9954b62d",
   "metadata": {},
   "outputs": [
    {
     "data": {
      "text/plain": [
       "'g Practice'"
      ]
     },
     "execution_count": 21,
     "metadata": {},
     "output_type": "execute_result"
    }
   ],
   "source": [
    "end=text[5:]\n",
    "end"
   ]
  },
  {
   "cell_type": "code",
   "execution_count": 23,
   "id": "efc563e8",
   "metadata": {},
   "outputs": [
    {
     "data": {
      "text/plain": [
       "'cti'"
      ]
     },
     "execution_count": 23,
     "metadata": {},
     "output_type": "execute_result"
    }
   ],
   "source": [
    "mid=text[-5:-2]\n",
    "mid"
   ]
  },
  {
   "cell_type": "code",
   "execution_count": 26,
   "id": "a19ed202",
   "metadata": {},
   "outputs": [
    {
     "data": {
      "text/plain": [
       "'STRING PRACTICE'"
      ]
     },
     "execution_count": 26,
     "metadata": {},
     "output_type": "execute_result"
    }
   ],
   "source": [
    "a=text.upper()\n",
    "a"
   ]
  },
  {
   "cell_type": "code",
   "execution_count": 27,
   "id": "207bc9a9",
   "metadata": {},
   "outputs": [
    {
     "data": {
      "text/plain": [
       "'string practice'"
      ]
     },
     "execution_count": 27,
     "metadata": {},
     "output_type": "execute_result"
    }
   ],
   "source": [
    "a.lower()"
   ]
  },
  {
   "cell_type": "code",
   "execution_count": 29,
   "id": "274e21a6",
   "metadata": {},
   "outputs": [],
   "source": [
    "b=\" my name is \""
   ]
  },
  {
   "cell_type": "code",
   "execution_count": 30,
   "id": "3fc002a2",
   "metadata": {},
   "outputs": [
    {
     "data": {
      "text/plain": [
       "'my name is'"
      ]
     },
     "execution_count": 30,
     "metadata": {},
     "output_type": "execute_result"
    }
   ],
   "source": [
    "b.strip()"
   ]
  },
  {
   "cell_type": "code",
   "execution_count": 31,
   "id": "e05a2817",
   "metadata": {},
   "outputs": [
    {
     "data": {
      "text/plain": [
       "' My naMe is '"
      ]
     },
     "execution_count": 31,
     "metadata": {},
     "output_type": "execute_result"
    }
   ],
   "source": [
    "b.replace(\"m\",\"M\")"
   ]
  },
  {
   "cell_type": "code",
   "execution_count": 32,
   "id": "4bbdc018",
   "metadata": {},
   "outputs": [
    {
     "data": {
      "text/plain": [
       "['', 'my', 'name', 'is', '']"
      ]
     },
     "execution_count": 32,
     "metadata": {},
     "output_type": "execute_result"
    }
   ],
   "source": [
    "b.split(\" \")"
   ]
  },
  {
   "cell_type": "code",
   "execution_count": 33,
   "id": "5b0dd9c9",
   "metadata": {},
   "outputs": [
    {
     "data": {
      "text/plain": [
       "'STRING PRACTICE my name is '"
      ]
     },
     "execution_count": 33,
     "metadata": {},
     "output_type": "execute_result"
    }
   ],
   "source": [
    "c=a+b\n",
    "c"
   ]
  },
  {
   "cell_type": "code",
   "execution_count": 34,
   "id": "78da3c6a",
   "metadata": {},
   "outputs": [
    {
     "ename": "TypeError",
     "evalue": "can only concatenate str (not \"int\") to str",
     "output_type": "error",
     "traceback": [
      "\u001b[31m---------------------------------------------------------------------------\u001b[39m",
      "\u001b[31mTypeError\u001b[39m                                 Traceback (most recent call last)",
      "\u001b[36mCell\u001b[39m\u001b[36m \u001b[39m\u001b[32mIn[34]\u001b[39m\u001b[32m, line 2\u001b[39m\n\u001b[32m      1\u001b[39m price=\u001b[32m50\u001b[39m\n\u001b[32m----> \u001b[39m\u001b[32m2\u001b[39m text=\u001b[33;43m\"\u001b[39;49m\u001b[33;43mYour total bill is: \u001b[39;49m\u001b[33;43m\"\u001b[39;49m\u001b[43m \u001b[49m\u001b[43m+\u001b[49m\u001b[43m \u001b[49m\u001b[43mprice\u001b[49m\n",
      "\u001b[31mTypeError\u001b[39m: can only concatenate str (not \"int\") to str"
     ]
    }
   ],
   "source": [
    "price=50\n",
    "text=\"Your total bill is: \" + price"
   ]
  },
  {
   "cell_type": "code",
   "execution_count": 36,
   "id": "b4283cb0",
   "metadata": {},
   "outputs": [
    {
     "data": {
      "text/plain": [
       "'Your total bill is:  50'"
      ]
     },
     "execution_count": 36,
     "metadata": {},
     "output_type": "execute_result"
    }
   ],
   "source": [
    "price=50\n",
    "text=f\"Your total bill is:  {price}\"\n",
    "text"
   ]
  },
  {
   "cell_type": "code",
   "execution_count": 37,
   "id": "f803c79b",
   "metadata": {},
   "outputs": [
    {
     "data": {
      "text/plain": [
       "4"
      ]
     },
     "execution_count": 37,
     "metadata": {},
     "output_type": "execute_result"
    }
   ],
   "source": [
    "b.find(\"n\")"
   ]
  }
 ],
 "metadata": {
  "kernelspec": {
   "display_name": "Python 3",
   "language": "python",
   "name": "python3"
  },
  "language_info": {
   "codemirror_mode": {
    "name": "ipython",
    "version": 3
   },
   "file_extension": ".py",
   "mimetype": "text/x-python",
   "name": "python",
   "nbconvert_exporter": "python",
   "pygments_lexer": "ipython3",
   "version": "3.13.3"
  }
 },
 "nbformat": 4,
 "nbformat_minor": 5
}
