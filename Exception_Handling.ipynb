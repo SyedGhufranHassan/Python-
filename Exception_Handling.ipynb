{
 "cells": [
  {
   "cell_type": "markdown",
   "id": "5020de16",
   "metadata": {},
   "source": [
    "Write a Python program that demonstrates a simple try-except block to handle a ZeroDivisionError."
   ]
  },
  {
   "cell_type": "code",
   "execution_count": 1,
   "id": "b2481e98",
   "metadata": {},
   "outputs": [
    {
     "name": "stdout",
     "output_type": "stream",
     "text": [
      "Result of division: 1.0\n"
     ]
    }
   ],
   "source": [
    "try:\n",
    "    dividend = int(input(\"Enter the dividend: \"))\n",
    "    divisor = int(input(\"Enter the divisor: \"))\n",
    "    \n",
    "    result = dividend / divisor\n",
    "    print(\"Result of division:\", result)\n",
    "\n",
    "except ZeroDivisionError:\n",
    "    print(\"Error: Division by zero is not allowed.\")\n",
    "except ValueError:\n",
    "    print(\"Error: Please enter valid integer values.\")"
   ]
  },
  {
   "cell_type": "markdown",
   "id": "510c0b9e",
   "metadata": {},
   "source": [
    "What is the purpose of the else clause in a try-except block? Provide an example."
   ]
  },
  {
   "cell_type": "code",
   "execution_count": 2,
   "id": "19e00491",
   "metadata": {},
   "outputs": [
    {
     "name": "stdout",
     "output_type": "stream",
     "text": [
      "Result of division: 1.0\n"
     ]
    }
   ],
   "source": [
    "#\n",
    "# The Else clause in a try-except block is used to define a block of code to be executed if no exceptions are raised within the try block.\n",
    "\n",
    "try:\n",
    "    dividend = int(input(\"Enter the dividend: \"))\n",
    "    divisor = int(input(\"Enter the divisor: \"))\n",
    "    \n",
    "    result = dividend / divisor\n",
    "\n",
    "except ZeroDivisionError:\n",
    "    print(\"Error: Division by zero is not allowed.\")\n",
    "except ValueError:\n",
    "    print(\"Error: Please enter valid integer values.\")\n",
    "\n",
    "else:\n",
    "    print(\"Result of division:\", result)#"
   ]
  },
  {
   "cell_type": "markdown",
   "id": "213e8438",
   "metadata": {},
   "source": [
    "Explain the role of the finally keyword in exception handling. Write a code snippet to demonstrate its use."
   ]
  },
  {
   "cell_type": "code",
   "execution_count": 3,
   "id": "4f6335f4",
   "metadata": {},
   "outputs": [
    {
     "name": "stdout",
     "output_type": "stream",
     "text": [
      "Error: File not found.\n"
     ]
    }
   ],
   "source": [
    "#The finally keyword in exception handling is used to define a block of code that will always be executed, regardless of whether an exception occurs or not.\n",
    "\n",
    "try:\n",
    "    file = open(\"example.txt\", \"r\")\n",
    "    data = file.read()\n",
    "    print(\"Data read successfully:\", data)\n",
    "\n",
    "except FileNotFoundError:\n",
    "    print(\"Error: File not found.\")\n",
    "\n",
    "finally:\n",
    "    if 'file' in locals():\n",
    "        file.close()\n",
    "        print(\"File closed.\")\n"
   ]
  },
  {
   "cell_type": "markdown",
   "id": "28a825cd",
   "metadata": {},
   "source": [
    "Write a program that uses a try-except block to handle a FileNotFoundError."
   ]
  },
  {
   "cell_type": "code",
   "execution_count": 4,
   "id": "a40b08be",
   "metadata": {},
   "outputs": [
    {
     "name": "stdout",
     "output_type": "stream",
     "text": [
      "Error: The specified file was not found.\n"
     ]
    }
   ],
   "source": [
    "try:\n",
    "    filename = input(\"Enter the name of the file to read: \")\n",
    "    with open(filename, 'r') as file:\n",
    "        data = file.read()\n",
    "        print(\"Data read from the file:\", data)\n",
    "\n",
    "except FileNotFoundError:\n",
    "    print(\"Error: The specified file was not found.\")"
   ]
  },
  {
   "cell_type": "markdown",
   "id": "b518674e",
   "metadata": {},
   "source": [
    "Create a Python program that uses multiple except clauses to handle different types of exceptions."
   ]
  },
  {
   "cell_type": "code",
   "execution_count": 5,
   "id": "11a3e481",
   "metadata": {},
   "outputs": [
    {
     "name": "stdout",
     "output_type": "stream",
     "text": [
      "Error: Please enter valid integer values.\n"
     ]
    }
   ],
   "source": [
    "try:\n",
    "    num1 = int(input(\"Enter the first number: \"))\n",
    "    num2 = int(input(\"Enter the second number: \"))\n",
    "    \n",
    "    result = num1 / num2\n",
    "    print(\"Result of division:\", result)\n",
    "\n",
    "except ZeroDivisionError:\n",
    "    print(\"Error: Division by zero is not allowed.\")\n",
    "\n",
    "except ValueError:\n",
    "    print(\"Error: Please enter valid integer values.\")"
   ]
  },
  {
   "cell_type": "markdown",
   "id": "37c93388",
   "metadata": {},
   "source": [
    "Implement a function that raises a custom exception if a given number is negative."
   ]
  },
  {
   "cell_type": "code",
   "execution_count": 6,
   "id": "09a7a16a",
   "metadata": {},
   "outputs": [
    {
     "name": "stdout",
     "output_type": "stream",
     "text": [
      "Result of division: 1.0\n"
     ]
    }
   ],
   "source": [
    "try:\n",
    "    num1 = int(input(\"Enter the first number: \"))\n",
    "    num2 = int(input(\"Enter the second number: \"))\n",
    "    \n",
    "    result = num1 / num2\n",
    "    print(\"Result of division:\", result)\n",
    "\n",
    "except ZeroDivisionError:\n",
    "    print(\"Error: Division by zero is not allowed.\")\n",
    "\n",
    "except ValueError:\n",
    "    print(\"Error: Please enter valid integer values.\")"
   ]
  },
  {
   "cell_type": "markdown",
   "id": "28762688",
   "metadata": {},
   "source": [
    "Write a function that uses the assert keyword to check if a given list is not empty."
   ]
  },
  {
   "cell_type": "code",
   "execution_count": 7,
   "id": "348bbe48",
   "metadata": {},
   "outputs": [
    {
     "ename": "AssertionError",
     "evalue": "The list must not be empty",
     "output_type": "error",
     "traceback": [
      "\u001b[1;31m---------------------------------------------------------------------------\u001b[0m",
      "\u001b[1;31mAssertionError\u001b[0m                            Traceback (most recent call last)",
      "Cell \u001b[1;32mIn[7], line 17\u001b[0m\n\u001b[0;32m     14\u001b[0m \u001b[38;5;28;01massert\u001b[39;00m check_not_empty(my_list) \u001b[38;5;241m==\u001b[39m \u001b[38;5;28;01mTrue\u001b[39;00m  \n\u001b[0;32m     16\u001b[0m empty_list \u001b[38;5;241m=\u001b[39m []\n\u001b[1;32m---> 17\u001b[0m \u001b[38;5;28;01massert\u001b[39;00m \u001b[43mcheck_not_empty\u001b[49m\u001b[43m(\u001b[49m\u001b[43mempty_list\u001b[49m\u001b[43m)\u001b[49m \u001b[38;5;241m==\u001b[39m \u001b[38;5;28;01mTrue\u001b[39;00m\n",
      "Cell \u001b[1;32mIn[7], line 11\u001b[0m, in \u001b[0;36mcheck_not_empty\u001b[1;34m(input_list)\u001b[0m\n\u001b[0;32m      1\u001b[0m \u001b[38;5;28;01mdef\u001b[39;00m \u001b[38;5;21mcheck_not_empty\u001b[39m(input_list):\n\u001b[0;32m      2\u001b[0m \u001b[38;5;250m    \u001b[39m\u001b[38;5;124;03m\"\"\"\u001b[39;00m\n\u001b[0;32m      3\u001b[0m \u001b[38;5;124;03m    Check if a given list is not empty using the assert keyword.\u001b[39;00m\n\u001b[0;32m      4\u001b[0m \n\u001b[1;32m   (...)\u001b[0m\n\u001b[0;32m      9\u001b[0m \u001b[38;5;124;03m        bool: True if the list is not empty, False otherwise.\u001b[39;00m\n\u001b[0;32m     10\u001b[0m \u001b[38;5;124;03m    \"\"\"\u001b[39;00m\n\u001b[1;32m---> 11\u001b[0m     \u001b[38;5;28;01massert\u001b[39;00m \u001b[38;5;28mlen\u001b[39m(input_list) \u001b[38;5;241m>\u001b[39m \u001b[38;5;241m0\u001b[39m, \u001b[38;5;124m\"\u001b[39m\u001b[38;5;124mThe list must not be empty\u001b[39m\u001b[38;5;124m\"\u001b[39m\n\u001b[0;32m     12\u001b[0m     \u001b[38;5;28;01mreturn\u001b[39;00m \u001b[38;5;28;01mTrue\u001b[39;00m\n",
      "\u001b[1;31mAssertionError\u001b[0m: The list must not be empty"
     ]
    }
   ],
   "source": [
    "\n",
    "def check_not_empty(input_list):\n",
    "    \"\"\"\n",
    "    Check if a given list is not empty using the assert keyword.\n",
    "\n",
    "    Parameters:\n",
    "        input_list (list): The list to be checked.\n",
    "\n",
    "    Returns:\n",
    "        bool: True if the list is not empty, False otherwise.\n",
    "    \"\"\"\n",
    "    assert len(input_list) > 0, \"The list must not be empty\"\n",
    "    return True\n",
    "my_list = [1, 2, 3]\n",
    "assert check_not_empty(my_list) == True  \n",
    "\n",
    "empty_list = []\n",
    "assert check_not_empty(empty_list) == True"
   ]
  },
  {
   "cell_type": "markdown",
   "id": "f7861e8d",
   "metadata": {},
   "source": [
    "Develop a program that reads two numbers from the user and divides them. Handle different exceptions such as ZeroDivisionError and ValueError."
   ]
  },
  {
   "cell_type": "code",
   "execution_count": null,
   "id": "ef8f7f27",
   "metadata": {},
   "outputs": [
    {
     "name": "stdout",
     "output_type": "stream",
     "text": [
      "Error: Please enter valid integer values.\n"
     ]
    }
   ],
   "source": [
    "def divide_numbers():\n",
    "    try:\n",
    "        num1 = int(input(\"Enter the first number: \"))\n",
    "        num2 = int(input(\"Enter the second number: \"))\n",
    "        \n",
    "        result = num1 / num2\n",
    "        print(\"Result of division:\", result)\n",
    "\n",
    "    except ZeroDivisionError:\n",
    "        print(\"Error: Division by zero is not allowed.\")\n",
    "    \n",
    "    except ValueError:\n",
    "        print(\"Error: Please enter valid integer values.\")\n",
    "\n",
    "divide_numbers()"
   ]
  },
  {
   "cell_type": "markdown",
   "id": "4a043e90",
   "metadata": {},
   "source": [
    "Write a function that takes a string as input and converts it to an integer. Handle the ValueError exception."
   ]
  },
  {
   "cell_type": "code",
   "execution_count": null,
   "id": "273b88df",
   "metadata": {},
   "outputs": [],
   "source": [
    "def convert_to_integer(string):\n",
    "    try:\n",
    "        integer_value = int(string)\n",
    "        return integer_value\n",
    "    except ValueError:\n",
    "        print(\"Error: Could not convert the input to an integer.\")\n",
    "\n",
    "# Example usage:\n",
    "input_string = input(\"Enter a string to convert to an integer: \")\n",
    "result = convert_to_integer(input_string)\n",
    "if result is not None:\n",
    "    print(\"Integer value:\", result)"
   ]
  },
  {
   "cell_type": "markdown",
   "id": "e09663a8",
   "metadata": {},
   "source": [
    "Create a program that uses the try, except, else, and finally blocks to open a file, read its contents, and print them."
   ]
  },
  {
   "cell_type": "code",
   "execution_count": null,
   "id": "5f7daa25",
   "metadata": {},
   "outputs": [
    {
     "name": "stdout",
     "output_type": "stream",
     "text": [
      "Error: The file '' was not found.\n",
      "Closing the file.\n"
     ]
    }
   ],
   "source": [
    "def read_file(filename):\n",
    "    try:\n",
    "        with open(filename, 'r') as file:\n",
    "            data = file.read()\n",
    "    except FileNotFoundError:\n",
    "        print(f\"Error: The file '{filename}' was not found.\")\n",
    "    except IOError:\n",
    "        print(f\"Error: Unable to read the file '{filename}'.\")\n",
    "    else:\n",
    "        print(\"File contents:\")\n",
    "        print(data)\n",
    "    finally:\n",
    "        print(\"Closing the file.\")\n",
    "\n",
    "\n",
    "filename = input(\"Enter the name of the file to read: \")\n",
    "read_file(filename)"
   ]
  },
  {
   "cell_type": "markdown",
   "id": "2f976b31",
   "metadata": {},
   "source": [
    "Define a custom exception class named CustomError. Write a program that raises this exception when a certain condition is met."
   ]
  },
  {
   "cell_type": "code",
   "execution_count": null,
   "id": "58b2c87a",
   "metadata": {},
   "outputs": [],
   "source": [
    "class CustomError(Exception):\n",
    "    \"\"\"Custom exception class.\"\"\"\n",
    "    def __init__(self, message=\"A certain condition was met.\"):\n",
    "        self.message = message\n",
    "        super().__init__(self.message)\n",
    "\n",
    "def check_condition(value):\n",
    "    if value == 42:\n",
    "        raise CustomError(\"The value is 42.\")\n",
    "\n",
    "# Example usage:\n",
    "try:\n",
    "    user_input = int(input(\"Enter a value: \"))\n",
    "    check_condition(user_input)\n",
    "except CustomError as e:\n",
    "    print(\"Custom error occurred:\", e)"
   ]
  },
  {
   "cell_type": "markdown",
   "id": "4718ee7b",
   "metadata": {},
   "source": [
    "Implement a function that reads a file and prints its content. If the file is not found, raise a FileNotFoundError with a custom error message."
   ]
  },
  {
   "cell_type": "code",
   "execution_count": null,
   "id": "7d65d3f0",
   "metadata": {},
   "outputs": [
    {
     "name": "stdout",
     "output_type": "stream",
     "text": [
      "Error: The file '' was not found.\n"
     ]
    }
   ],
   "source": [
    "def read_and_print_file(filename):\n",
    "    try:\n",
    "        with open(filename, 'r') as file:\n",
    "            data = file.read()\n",
    "            print(\"File contents:\")\n",
    "            print(data)\n",
    "    except FileNotFoundError:\n",
    "        raise FileNotFoundError(f\"The file '{filename}' was not found.\")\n",
    "\n",
    "# Example usage:\n",
    "filename = input(\"Enter the name of the file to read: \")\n",
    "try:\n",
    "    read_and_print_file(filename)\n",
    "except FileNotFoundError as e:\n",
    "    print(\"Error:\", e)"
   ]
  },
  {
   "cell_type": "markdown",
   "id": "368cfff7",
   "metadata": {},
   "source": [
    "Develop a program that uses the assert keyword to check if a given number is positive. If not, raise an AssertionError with a custom message."
   ]
  },
  {
   "cell_type": "code",
   "execution_count": null,
   "id": "dffe1621",
   "metadata": {},
   "outputs": [
    {
     "name": "stdout",
     "output_type": "stream",
     "text": [
      "The number is positive.\n"
     ]
    }
   ],
   "source": [
    "def check_positive(number):\n",
    "    assert number > 0, f\"The number {number} is not positive.\"\n",
    "\n",
    "# Example usage:\n",
    "try:\n",
    "    user_input = int(input(\"Enter a number: \"))\n",
    "    check_positive(user_input)\n",
    "    print(\"The number is positive.\")\n",
    "except AssertionError as e:\n",
    "    print(\"AssertionError:\", e)"
   ]
  },
  {
   "cell_type": "markdown",
   "id": "93fd3391",
   "metadata": {},
   "source": [
    "Create a function that calculates the square root of a positive number. Handle the ValueError exception if the user enters a negative number."
   ]
  },
  {
   "cell_type": "code",
   "execution_count": null,
   "id": "33c71719",
   "metadata": {},
   "outputs": [
    {
     "name": "stdout",
     "output_type": "stream",
     "text": [
      "Square root: 2.23606797749979\n"
     ]
    }
   ],
   "source": [
    "import math\n",
    "\n",
    "def calculate_square_root(number):\n",
    "    try:\n",
    "        if number < 0:\n",
    "            raise ValueError(\"The number must be positive.\")\n",
    "        result = math.sqrt(number)\n",
    "        return result\n",
    "    except ValueError as e:\n",
    "        print(\"ValueError:\", e)\n",
    "        return None\n",
    "\n",
    "# Example usage:\n",
    "user_input = float(input(\"Enter a positive number: \"))\n",
    "result = calculate_square_root(user_input)\n",
    "if result is not None:\n",
    "    print(\"Square root:\", result)"
   ]
  }
 ],
 "metadata": {
  "kernelspec": {
   "display_name": "Python 3 (ipykernel)",
   "language": "python",
   "name": "python3"
  },
  "language_info": {
   "codemirror_mode": {
    "name": "ipython",
    "version": 3
   },
   "file_extension": ".py",
   "mimetype": "text/x-python",
   "name": "python",
   "nbconvert_exporter": "python",
   "pygments_lexer": "ipython3",
   "version": "3.12.2"
  }
 },
 "nbformat": 4,
 "nbformat_minor": 5
}
