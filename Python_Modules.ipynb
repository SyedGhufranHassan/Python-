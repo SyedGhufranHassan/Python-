{
 "cells": [
  {
   "cell_type": "markdown",
   "id": "46e7a5c0",
   "metadata": {},
   "source": [
    "Explain the difference between import module and from module import *. Provide an example for each.\n"
   ]
  },
  {
   "cell_type": "code",
   "execution_count": 1,
   "id": "e07cfe64",
   "metadata": {},
   "outputs": [
    {
     "name": "stdout",
     "output_type": "stream",
     "text": [
      "3.141592653589793\n"
     ]
    }
   ],
   "source": [
    "from math import *\n",
    "print(pi)"
   ]
  },
  {
   "cell_type": "code",
   "execution_count": 2,
   "id": "3e218580",
   "metadata": {},
   "outputs": [
    {
     "name": "stdout",
     "output_type": "stream",
     "text": [
      "3.141592653589793\n"
     ]
    }
   ],
   "source": [
    "import math\n",
    "print(math.pi)"
   ]
  },
  {
   "cell_type": "markdown",
   "id": "935bbfe7",
   "metadata": {},
   "source": [
    "What is an alias, and how can it be used while importing a module? Provide an example.\n"
   ]
  },
  {
   "cell_type": "code",
   "execution_count": 3,
   "id": "944a369c",
   "metadata": {},
   "outputs": [
    {
     "data": {
      "text/plain": [
       "array([1, 2, 3, 4, 5])"
      ]
     },
     "execution_count": 3,
     "metadata": {},
     "output_type": "execute_result"
    }
   ],
   "source": [
    "#An alias in Python is an alternate name that you can give to a module, function, or class.\n",
    "import numpy as np\n",
    "\n",
    "array = np.array([1, 2, 3, 4, 5])\n",
    "array"
   ]
  },
  {
   "cell_type": "markdown",
   "id": "1e1d37c8",
   "metadata": {},
   "source": [
    "Demonstrate the use of the importlib module to import a module dynamically."
   ]
  },
  {
   "cell_type": "code",
   "execution_count": 4,
   "id": "cd334b12",
   "metadata": {},
   "outputs": [
    {
     "data": {
      "text/plain": [
       "5.0"
      ]
     },
     "execution_count": 4,
     "metadata": {},
     "output_type": "execute_result"
    }
   ],
   "source": [
    "import importlib\n",
    "module_name = \"math\"\n",
    "\n",
    "module = importlib.import_module(module_name)\n",
    "module.sqrt(25)"
   ]
  },
  {
   "cell_type": "markdown",
   "id": "520b6194",
   "metadata": {},
   "source": [
    "Implement a function that takes an angle in degrees and converts it to radians using the math module."
   ]
  },
  {
   "cell_type": "code",
   "execution_count": 5,
   "id": "944626ba",
   "metadata": {},
   "outputs": [
    {
     "name": "stdout",
     "output_type": "stream",
     "text": [
      "Angle in degrees: 90\n",
      "Angle in radians: 1.5707963267948966\n"
     ]
    }
   ],
   "source": [
    "import math\n",
    "\n",
    "def degrees_to_radians(degrees):\n",
    "    radians = degrees * (math.pi / 180)\n",
    "    return radians\n",
    "\n",
    "in_degrees = 90\n",
    "in_radians = degrees_to_radians(in_degrees)\n",
    "print(\"Angle in degrees:\", in_degrees)\n",
    "print(\"Angle in radians:\", in_radians)"
   ]
  },
  {
   "cell_type": "markdown",
   "id": "b81395fe",
   "metadata": {},
   "source": [
    "Create a program that simulates the rolling of a six-sided die using the random module."
   ]
  },
  {
   "cell_type": "code",
   "execution_count": 6,
   "id": "f5698b8a",
   "metadata": {},
   "outputs": [
    {
     "name": "stdout",
     "output_type": "stream",
     "text": [
      "Welcome to the Dice Rolling Simulator!\n",
      "You rolled: 5\n",
      "Thanks for playing!\n"
     ]
    }
   ],
   "source": [
    "import random\n",
    "\n",
    "def roll_dice():\n",
    "    return random.randint(1, 6)\n",
    "\n",
    "def main():\n",
    "    print(\"Welcome to the Dice Rolling Simulator!\")\n",
    "\n",
    "    while True:\n",
    "        input(\"Press Enter to roll the dice...\")\n",
    "        result = roll_dice()\n",
    "        print(\"You rolled:\", result)\n",
    "\n",
    "        play_again = input(\"Roll again? (yes/no): \").lower()\n",
    "        if play_again != 'yes':\n",
    "            break\n",
    "\n",
    "    print(\"Thanks for playing!\")\n",
    "\n",
    "if __name__ == \"__main__\":\n",
    "    main()"
   ]
  },
  {
   "cell_type": "markdown",
   "id": "aefd02a7",
   "metadata": {},
   "source": [
    "Implement a timer function that measures the execution time of a piece of code using the time module."
   ]
  },
  {
   "cell_type": "code",
   "execution_count": 7,
   "id": "b779c39c",
   "metadata": {},
   "outputs": [
    {
     "name": "stdout",
     "output_type": "stream",
     "text": [
      "Function execution complete\n",
      "Execution time of 'example_function': 2.000852 seconds\n"
     ]
    }
   ],
   "source": [
    "import time\n",
    "\n",
    "def timer(func):\n",
    "    def wrapper(*args, **kwargs):\n",
    "        start_time = time.time()\n",
    "        result = func(*args, **kwargs)\n",
    "        end_time = time.time()\n",
    "        execution_time = end_time - start_time\n",
    "        print(f\"Execution time of '{func.__name__}': {execution_time:.6f} seconds\")\n",
    "        return result\n",
    "    return wrapper\n",
    "\n",
    "@timer\n",
    "def example_function():\n",
    "    time.sleep(2)\n",
    "    print(\"Function execution complete\")\n",
    "\n",
    "example_function()"
   ]
  },
  {
   "cell_type": "markdown",
   "id": "6d6cdae3",
   "metadata": {},
   "source": [
    "Write a function that calculates the difference in days between two given dates using the datetime module."
   ]
  },
  {
   "cell_type": "code",
   "execution_count": 8,
   "id": "65c3ce92",
   "metadata": {},
   "outputs": [
    {
     "name": "stdout",
     "output_type": "stream",
     "text": [
      "Difference in days: 7881\n"
     ]
    }
   ],
   "source": [
    "from datetime import datetime\n",
    "\n",
    "def difference_in_days(date1, date2):\n",
    "    date1_obj = datetime.strptime(date1, \"%Y-%m-%d\")\n",
    "    date2_obj = datetime.strptime(date2, \"%Y-%m-%d\")\n",
    "    difference = abs((date2_obj - date1_obj).days)\n",
    "    return difference\n",
    "\n",
    "# Example usage:\n",
    "date1 = \"2002-09-16\"\n",
    "date2 = \"2024-04-14\"\n",
    "days_difference = difference_in_days(date1, date2)\n",
    "print(\"Difference in days:\", days_difference)"
   ]
  },
  {
   "cell_type": "markdown",
   "id": "729111d8",
   "metadata": {},
   "source": [
    "Implement a program that checks if a given year is a leap year using the calendar module."
   ]
  },
  {
   "cell_type": "code",
   "execution_count": 9,
   "id": "067716aa",
   "metadata": {},
   "outputs": [
    {
     "name": "stdout",
     "output_type": "stream",
     "text": [
      "2024 is a leap year.\n"
     ]
    }
   ],
   "source": [
    "import calendar\n",
    "\n",
    "def leap_year(year):\n",
    "    return calendar.isleap(year)\n",
    "\n",
    "year = 2024\n",
    "if leap_year(year):\n",
    "    print(f\"{year} is a leap year.\")\n",
    "else:\n",
    "    print(f\"{year} is not a leap year.\")"
   ]
  },
  {
   "cell_type": "markdown",
   "id": "8c4f73f2",
   "metadata": {},
   "source": [
    "Create a program that checks if a specific file exists in a given directory using the os module."
   ]
  },
  {
   "cell_type": "code",
   "execution_count": 10,
   "id": "f62123d1",
   "metadata": {},
   "outputs": [
    {
     "name": "stdout",
     "output_type": "stream",
     "text": [
      "Dose not exist\n"
     ]
    }
   ],
   "source": [
    "import os\n",
    "\n",
    "def check_file_existence(directory, filename):\n",
    "    file_path = os.path.join(directory, filename)\n",
    "    return os.path.exists(file_path)\n",
    "\n",
    "# Example usage:\n",
    "directory = \"/path/to/your/directory\"\n",
    "filename = \"example.txt\"\n",
    "\n",
    "if check_file_existence(directory, filename):\n",
    "    print(f\"Exists\")\n",
    "else:\n",
    "    print(f\"Dose not exist\")"
   ]
  },
  {
   "cell_type": "markdown",
   "id": "c1b34e47",
   "metadata": {},
   "source": [
    "Write a program that uses threading to perform parallel execution of three tasks."
   ]
  },
  {
   "cell_type": "code",
   "execution_count": 11,
   "id": "954bcf1d",
   "metadata": {},
   "outputs": [
    {
     "name": "stdout",
     "output_type": "stream",
     "text": [
      "Task 1 started\n",
      "Task 2 started\n",
      "Task 3 started\n",
      "Task 2 completed\n",
      "Task 1 completed\n",
      "Task 3 completed\n",
      "All tasks completed\n"
     ]
    }
   ],
   "source": [
    "import threading\n",
    "import time\n",
    "\n",
    "def task1():\n",
    "    print(\"Task 1 started\")\n",
    "    time.sleep(3)  \n",
    "    print(\"Task 1 completed\")\n",
    "\n",
    "def task2():\n",
    "    print(\"Task 2 started\")\n",
    "    time.sleep(2)  \n",
    "    print(\"Task 2 completed\")\n",
    "\n",
    "def task3():\n",
    "    print(\"Task 3 started\")\n",
    "    time.sleep(4)  \n",
    "    print(\"Task 3 completed\")\n",
    "\n",
    "def main():\n",
    "\n",
    "    \n",
    "    thread1 = threading.Thread(target=task1)\n",
    "    thread2 = threading.Thread(target=task2)\n",
    "    thread3 = threading.Thread(target=task3)\n",
    "\n",
    "    thread1.start()\n",
    "    thread2.start()\n",
    "    thread3.start()\n",
    "\n",
    "    thread1.join()\n",
    "    thread2.join()\n",
    "    thread3.join()\n",
    "\n",
    "    print(\"All tasks completed\")\n",
    "\n",
    "if __name__ == \"__main__\":\n",
    "    main()"
   ]
  },
  {
   "cell_type": "markdown",
   "id": "0fdd3e7c",
   "metadata": {},
   "source": [
    "Implement a program that downloads an image from a URL using the urllib module."
   ]
  },
  {
   "cell_type": "code",
   "execution_count": null,
   "id": "950950d9",
   "metadata": {},
   "outputs": [],
   "source": []
  }
 ],
 "metadata": {
  "kernelspec": {
   "display_name": "Python 3 (ipykernel)",
   "language": "python",
   "name": "python3"
  },
  "language_info": {
   "codemirror_mode": {
    "name": "ipython",
    "version": 3
   },
   "file_extension": ".py",
   "mimetype": "text/x-python",
   "name": "python",
   "nbconvert_exporter": "python",
   "pygments_lexer": "ipython3",
   "version": "3.12.2"
  }
 },
 "nbformat": 4,
 "nbformat_minor": 5
}
